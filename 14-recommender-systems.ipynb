{
 "cells": [
  {
   "attachments": {},
   "cell_type": "markdown",
   "metadata": {},
   "source": [
    "# Recommender systems\n",
    "\n",
    "## Collaborative filtering algorithm\n",
    "\n",
    "**Problem:**\n",
    "\n",
    "For given $y_{ij}$ estimate features $x_i$ and parameters $\\theta_j$. $y_{ij}$ can have missing entries (in the following notebook we consider them as `np.nan`). \n",
    "Cost function can be described in the following way:\n",
    "\n",
    "$$\n",
    "J(x, \\theta) = \\frac12 \\sum_{(i,j)\\in Y}\\left[ \\theta_j^{\\mathsf T}x_i - y_{ij}\\right]^2 + \\frac\\lambda2\\sum_{ik} x_{ik}^2 + \\frac\\lambda2\\sum_{jk} \\theta_{jk}^2,\n",
    "$$\n",
    "\n",
    "where sumation is for each $(i, j)$ which has valid value $y_{ij}$.\n",
    "\n",
    "**Algorithm:**\n",
    "\n",
    "1. Initialize features: $x_1, x_2, \\dots, x_m$ and parameters $\\theta_1, \\theta_2, \\dots, \\theta_k$, (note: $\\theta_i, x_i \\in \\mathbb R^n$).\n",
    "2. Minimize cost function (using gradient descent or advanced optimization algorithm) \n",
    "$$\n",
    "\\min_{x,\\theta} J(x, \\theta),\n",
    "$$\n",
    "When using gradient descent, the update for the objectives can be expressed as follows\n",
    "$$\n",
    "x_{ik} \\to x_{ik} - \\alpha \\sum_{j:(i,j)\\in Y}(\\theta_j^\\mathsf{T}x_i - y_{ij})\\theta_{jk} + \\lambda x_{ik},\n",
    "$$\n",
    "$$\n",
    "\\theta_{jk} \\to \\theta_{jk} - \\alpha \\sum_{i: (i,j)\\in Y}(\\theta_j^\\mathsf{T}x_i - y_{ij})x_{ik} + \\lambda \\theta_{jk},\n",
    "$$\n",
    "which can be simplified in the matrix form:\n",
    "$$\n",
    "\\begin{cases}\n",
    "\\Delta x = -\\alpha \\left( \\langle \\theta x^{\\mathsf T} -y\\rangle^{\\mathsf T} \\theta + \\lambda x\\right) ,\\\\[1ex]\n",
    "\\Delta \\theta = -\\alpha \\left( \\langle \\theta x^{\\mathsf T} -y\\rangle x + \\lambda \\theta\\right) ,\\\\[1ex]\n",
    "\\end{cases}\n",
    "$$\n",
    "$$\n",
    "\\begin{cases}\n",
    "x \\to x + \\Delta x,\\\\[1ex]\n",
    "\\theta \\to \\theta + \\Delta \\theta,\n",
    "\\end{cases}\n",
    "$$\n",
    "where $\\langle...\\rangle$ operator which \"replaces\" `nan` values with zeros.\n",
    "3. Precict values using $\\theta^\\mathsf{T} x$.\n",
    "\n",
    "The formulated problem can be used for example in \"movie recommendation problem\".\n",
    "One could obtain similar movies using distance metric\n",
    "\n",
    "$$\n",
    "d_{ij}^2=\\|x_i - x_j\\|^2.\n",
    "$$"
   ]
  },
  {
   "cell_type": "code",
   "execution_count": 1,
   "metadata": {},
   "outputs": [],
   "source": [
    "import numpy as np\n",
    "import matplotlib.pyplot as plt"
   ]
  },
  {
   "cell_type": "code",
   "execution_count": 2,
   "metadata": {},
   "outputs": [],
   "source": [
    "def gradient_descent(theta, x, y, max_iter=1_000, alpha=0.1, beta=0):\n",
    "    for _ in range(max_iter):\n",
    "        tmp = theta @ x.T - y\n",
    "        tmp[np.isnan(tmp)] = 0\n",
    "        dx = tmp.T @ theta + beta * x\n",
    "        dtheta = tmp @ x + beta * theta\n",
    "        x -= alpha * dx\n",
    "        theta -= alpha * dtheta\n",
    "    return theta, x\n",
    "\n",
    "def cost(theta, x, y):\n",
    "    tmp = theta @ x.T - y\n",
    "    tmp[np.isnan(tmp)] = 0\n",
    "    return 0.5 * (tmp ** 2).sum()"
   ]
  },
  {
   "attachments": {},
   "cell_type": "markdown",
   "metadata": {},
   "source": [
    "\n",
    "| movies | alice | bob | carol | dave | eve |\n",
    "| --- | --- | --- | --- | --- | --- |\n",
    "| $m_0$ | 4 | 5 | 0 | 1 | ? |\n",
    "| $m_1$ | 5 | 4 | ? | 0 | ? |\n",
    "| $m_2$ | 1 | 1 | 3 | 3 | ? |\n",
    "| $m_3$ | ? | 2 | 4 | 5 | ? |\n",
    "| $m_4$ | 2 | 1 | 5 | 4 | ? |\n",
    "| $m_5$ | 2 | 1 | 5 | 4 | ? |"
   ]
  },
  {
   "cell_type": "code",
   "execution_count": 3,
   "metadata": {},
   "outputs": [],
   "source": [
    "np.random.seed(42)\n",
    "\n",
    "y = np.array(\n",
    "    [\n",
    "        [4, 5, 1, np.nan, 2, 2],\n",
    "        [5, 4, 1, 2, 1, 1],\n",
    "        [0, np.nan, 3, 4, 5, 5],\n",
    "        [1, 0, 3, 5, 4, 4],\n",
    "        [np.nan, np.nan, np.nan, np.nan, np.nan, np.nan]\n",
    "    ]\n",
    ")\n",
    "\n",
    "n_users = y.shape[0]\n",
    "n_movies = y.shape[1]\n",
    "n_features = 2\n",
    "\n",
    "x = 5 * np.random.rand(n_movies, n_features)\n",
    "theta = np.random.rand(n_users, n_features)\n",
    "\n",
    "costs = []\n",
    "for i in range(10_000):\n",
    "    theta, x = gradient_descent(theta, x, y, max_iter=1, alpha=0.001, beta=0)\n",
    "    costs.append([i, cost(theta, x, y)])\n",
    "costs = np.array(costs)"
   ]
  },
  {
   "cell_type": "code",
   "execution_count": 4,
   "metadata": {},
   "outputs": [
    {
     "data": {
      "image/png": "[encoded data removed]",
      "text/plain": [
       "<Figure size 640x480 with 1 Axes>"
      ]
     },
     "metadata": {},
     "output_type": "display_data"
    }
   ],
   "source": [
    "fig, ax = plt.subplots()\n",
    "ax.plot(costs[:, 0], costs[:, 1])\n",
    "ax.set_yscale('log')\n",
    "ax.set_xscale('log')\n",
    "plt.show()"
   ]
  }
 ],
 "metadata": {
  "kernelspec": {
   "display_name": "Python 3",
   "language": "python",
   "name": "python3"
  },
  "language_info": {
   "codemirror_mode": {
    "name": "ipython",
    "version": 3
   },
   "file_extension": ".py",
   "mimetype": "text/x-python",
   "name": "python",
   "nbconvert_exporter": "python",
   "pygments_lexer": "ipython3",
   "version": "3.8.10"
  },
  "orig_nbformat": 4
 },
 "nbformat": 4,
 "nbformat_minor": 2
}
